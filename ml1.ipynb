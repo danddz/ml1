{
 "cells": [
  {
   "cell_type": "markdown",
   "metadata": {
    "_cell_guid": "d2034be1-8579-d4b9-9b18-b7bf2c6fc651",
    "id": "rWc3WRD0TtVq"
   },
   "source": [
    "# Исходные данные\n",
    "\n",
    "Ознакомить с данными можно в [источнике](https://www.kaggle.com/uciml/student-alcohol-consumption?select=student-por.csv)\n",
    "\n",
    "Если вкратце, то у вас есть 29 параметров и одна целевая переменная G3\n",
    "\n",
    "Данные случайным образом разделены на train и test, для train у вас есть ответы, а для test - нет. Необходимо построить такой алгоритм, который будет хорошо предсказывать на test данных."
   ]
  },
  {
   "cell_type": "code",
   "execution_count": 1,
   "metadata": {
    "_cell_guid": "87372d85-e9ac-b3b3-c25d-33dfb357ccd8",
    "id": "pQ5OrqpATtVl"
   },
   "outputs": [],
   "source": [
    "import pandas as pd\n",
    "\n",
    "import numpy as np\n",
    "np.random.seed(10)\n",
    "import matplotlib.pyplot as plt\n",
    "import seaborn as sns\n",
    "sns.set_style(\"darkgrid\")\n",
    "\n",
    "import scipy"
   ]
  },
  {
   "cell_type": "code",
   "execution_count": 2,
   "metadata": {
    "id": "cE9FdACVcBHd"
   },
   "outputs": [],
   "source": [
    "# Читаем данные\n",
    "\n",
    "X_train = pd.read_csv('data/train_features_with_answers.csv')\n",
    "X_test = pd.read_csv('data/X_test.csv')"
   ]
  },
  {
   "cell_type": "code",
   "execution_count": 3,
   "metadata": {
    "colab": {
     "base_uri": "https://localhost:8080/",
     "height": 379
    },
    "executionInfo": {
     "elapsed": 1808,
     "status": "ok",
     "timestamp": 1601988636134,
     "user": {
      "displayName": "Даниил Русланович Махоткин",
      "photoUrl": "",
      "userId": "18336248573599285046"
     },
     "user_tz": -180
    },
    "id": "i1j9Yn9Jhz-S",
    "outputId": "e61cc914-5a06-4d7e-aafb-c9f4fdbf9072"
   },
   "outputs": [
    {
     "data": {
      "text/html": [
       "<div>\n",
       "<style scoped>\n",
       "    .dataframe tbody tr th:only-of-type {\n",
       "        vertical-align: middle;\n",
       "    }\n",
       "\n",
       "    .dataframe tbody tr th {\n",
       "        vertical-align: top;\n",
       "    }\n",
       "\n",
       "    .dataframe thead th {\n",
       "        text-align: right;\n",
       "    }\n",
       "</style>\n",
       "<table border=\"1\" class=\"dataframe\">\n",
       "  <thead>\n",
       "    <tr style=\"text-align: right;\">\n",
       "      <th></th>\n",
       "      <th>school</th>\n",
       "      <th>sex</th>\n",
       "      <th>age</th>\n",
       "      <th>address</th>\n",
       "      <th>famsize</th>\n",
       "      <th>Pstatus</th>\n",
       "      <th>Medu</th>\n",
       "      <th>Fedu</th>\n",
       "      <th>Mjob</th>\n",
       "      <th>Fjob</th>\n",
       "      <th>...</th>\n",
       "      <th>internet</th>\n",
       "      <th>romantic</th>\n",
       "      <th>famrel</th>\n",
       "      <th>freetime</th>\n",
       "      <th>goout</th>\n",
       "      <th>Dalc</th>\n",
       "      <th>Walc</th>\n",
       "      <th>health</th>\n",
       "      <th>absences</th>\n",
       "      <th>G3</th>\n",
       "    </tr>\n",
       "  </thead>\n",
       "  <tbody>\n",
       "    <tr>\n",
       "      <th>0</th>\n",
       "      <td>MS</td>\n",
       "      <td>M</td>\n",
       "      <td>NaN</td>\n",
       "      <td>U</td>\n",
       "      <td>LE3</td>\n",
       "      <td>T</td>\n",
       "      <td>1</td>\n",
       "      <td>3</td>\n",
       "      <td>at_home</td>\n",
       "      <td>services</td>\n",
       "      <td>...</td>\n",
       "      <td>yes</td>\n",
       "      <td>yes</td>\n",
       "      <td>4</td>\n",
       "      <td>3</td>\n",
       "      <td>3</td>\n",
       "      <td>2</td>\n",
       "      <td>3</td>\n",
       "      <td>3</td>\n",
       "      <td>0</td>\n",
       "      <td>9</td>\n",
       "    </tr>\n",
       "    <tr>\n",
       "      <th>1</th>\n",
       "      <td>GP</td>\n",
       "      <td>M</td>\n",
       "      <td>NaN</td>\n",
       "      <td>R</td>\n",
       "      <td>LE3</td>\n",
       "      <td>T</td>\n",
       "      <td>3</td>\n",
       "      <td>3</td>\n",
       "      <td>teacher</td>\n",
       "      <td>other</td>\n",
       "      <td>...</td>\n",
       "      <td>yes</td>\n",
       "      <td>no</td>\n",
       "      <td>3</td>\n",
       "      <td>3</td>\n",
       "      <td>4</td>\n",
       "      <td>3</td>\n",
       "      <td>5</td>\n",
       "      <td>3</td>\n",
       "      <td>16</td>\n",
       "      <td>12</td>\n",
       "    </tr>\n",
       "    <tr>\n",
       "      <th>2</th>\n",
       "      <td>GP</td>\n",
       "      <td>M</td>\n",
       "      <td>15.0</td>\n",
       "      <td>NaN</td>\n",
       "      <td>GT3</td>\n",
       "      <td>T</td>\n",
       "      <td>3</td>\n",
       "      <td>4</td>\n",
       "      <td>other</td>\n",
       "      <td>other</td>\n",
       "      <td>...</td>\n",
       "      <td>yes</td>\n",
       "      <td>no</td>\n",
       "      <td>5</td>\n",
       "      <td>5</td>\n",
       "      <td>1</td>\n",
       "      <td>1</td>\n",
       "      <td>1</td>\n",
       "      <td>5</td>\n",
       "      <td>0</td>\n",
       "      <td>13</td>\n",
       "    </tr>\n",
       "    <tr>\n",
       "      <th>3</th>\n",
       "      <td>MS</td>\n",
       "      <td>M</td>\n",
       "      <td>17.0</td>\n",
       "      <td>R</td>\n",
       "      <td>GT3</td>\n",
       "      <td>T</td>\n",
       "      <td>4</td>\n",
       "      <td>3</td>\n",
       "      <td>services</td>\n",
       "      <td>other</td>\n",
       "      <td>...</td>\n",
       "      <td>yes</td>\n",
       "      <td>yes</td>\n",
       "      <td>4</td>\n",
       "      <td>5</td>\n",
       "      <td>5</td>\n",
       "      <td>1</td>\n",
       "      <td>3</td>\n",
       "      <td>2</td>\n",
       "      <td>4</td>\n",
       "      <td>11</td>\n",
       "    </tr>\n",
       "    <tr>\n",
       "      <th>4</th>\n",
       "      <td>GP</td>\n",
       "      <td>F</td>\n",
       "      <td>20.0</td>\n",
       "      <td>R</td>\n",
       "      <td>GT3</td>\n",
       "      <td>T</td>\n",
       "      <td>2</td>\n",
       "      <td>1</td>\n",
       "      <td>other</td>\n",
       "      <td>other</td>\n",
       "      <td>...</td>\n",
       "      <td>yes</td>\n",
       "      <td>yes</td>\n",
       "      <td>1</td>\n",
       "      <td>2</td>\n",
       "      <td>3</td>\n",
       "      <td>1</td>\n",
       "      <td>2</td>\n",
       "      <td>2</td>\n",
       "      <td>8</td>\n",
       "      <td>12</td>\n",
       "    </tr>\n",
       "  </tbody>\n",
       "</table>\n",
       "<p>5 rows × 31 columns</p>\n",
       "</div>"
      ],
      "text/plain": [
       "  school sex   age address famsize Pstatus  Medu  Fedu      Mjob      Fjob  \\\n",
       "0     MS   M   NaN       U     LE3       T     1     3   at_home  services   \n",
       "1     GP   M   NaN       R     LE3       T     3     3   teacher     other   \n",
       "2     GP   M  15.0     NaN     GT3       T     3     4     other     other   \n",
       "3     MS   M  17.0       R     GT3       T     4     3  services     other   \n",
       "4     GP   F  20.0       R     GT3       T     2     1     other     other   \n",
       "\n",
       "   ... internet romantic  famrel  freetime  goout Dalc Walc health absences  \\\n",
       "0  ...      yes      yes       4         3      3    2    3      3        0   \n",
       "1  ...      yes       no       3         3      4    3    5      3       16   \n",
       "2  ...      yes       no       5         5      1    1    1      5        0   \n",
       "3  ...      yes      yes       4         5      5    1    3      2        4   \n",
       "4  ...      yes      yes       1         2      3    1    2      2        8   \n",
       "\n",
       "   G3  \n",
       "0   9  \n",
       "1  12  \n",
       "2  13  \n",
       "3  11  \n",
       "4  12  \n",
       "\n",
       "[5 rows x 31 columns]"
      ]
     },
     "execution_count": 3,
     "metadata": {},
     "output_type": "execute_result"
    }
   ],
   "source": [
    "# Про характеристики прочитайте в источнике\n",
    "\n",
    "X_train.head(5)"
   ]
  },
  {
   "cell_type": "code",
   "execution_count": 4,
   "metadata": {
    "_cell_guid": "59eb5f69-14c4-8fda-9831-2173747d8d45",
    "colab": {
     "base_uri": "https://localhost:8080/",
     "height": 224
    },
    "executionInfo": {
     "elapsed": 886,
     "status": "ok",
     "timestamp": 1601982219373,
     "user": {
      "displayName": "Даниил Русланович Махоткин",
      "photoUrl": "",
      "userId": "18336248573599285046"
     },
     "user_tz": -180
    },
    "id": "Q_PaBFE2TtVr",
    "outputId": "27959cae-6d96-4e95-b220-7a1e86dcb2c5"
   },
   "outputs": [
    {
     "data": {
      "text/html": [
       "<div>\n",
       "<style scoped>\n",
       "    .dataframe tbody tr th:only-of-type {\n",
       "        vertical-align: middle;\n",
       "    }\n",
       "\n",
       "    .dataframe tbody tr th {\n",
       "        vertical-align: top;\n",
       "    }\n",
       "\n",
       "    .dataframe thead th {\n",
       "        text-align: right;\n",
       "    }\n",
       "</style>\n",
       "<table border=\"1\" class=\"dataframe\">\n",
       "  <thead>\n",
       "    <tr style=\"text-align: right;\">\n",
       "      <th></th>\n",
       "      <th>school</th>\n",
       "      <th>sex</th>\n",
       "      <th>age</th>\n",
       "      <th>address</th>\n",
       "      <th>famsize</th>\n",
       "      <th>Pstatus</th>\n",
       "      <th>Medu</th>\n",
       "      <th>Fedu</th>\n",
       "      <th>Mjob</th>\n",
       "      <th>Fjob</th>\n",
       "      <th>...</th>\n",
       "      <th>higher</th>\n",
       "      <th>internet</th>\n",
       "      <th>romantic</th>\n",
       "      <th>famrel</th>\n",
       "      <th>freetime</th>\n",
       "      <th>goout</th>\n",
       "      <th>Dalc</th>\n",
       "      <th>Walc</th>\n",
       "      <th>health</th>\n",
       "      <th>absences</th>\n",
       "    </tr>\n",
       "  </thead>\n",
       "  <tbody>\n",
       "    <tr>\n",
       "      <th>0</th>\n",
       "      <td>MS</td>\n",
       "      <td>M</td>\n",
       "      <td>18</td>\n",
       "      <td>U</td>\n",
       "      <td>GT3</td>\n",
       "      <td>T</td>\n",
       "      <td>4</td>\n",
       "      <td>4</td>\n",
       "      <td>teacher</td>\n",
       "      <td>teacher</td>\n",
       "      <td>...</td>\n",
       "      <td>yes</td>\n",
       "      <td>yes</td>\n",
       "      <td>no</td>\n",
       "      <td>3</td>\n",
       "      <td>2</td>\n",
       "      <td>4</td>\n",
       "      <td>1</td>\n",
       "      <td>4</td>\n",
       "      <td>2</td>\n",
       "      <td>4</td>\n",
       "    </tr>\n",
       "    <tr>\n",
       "      <th>1</th>\n",
       "      <td>GP</td>\n",
       "      <td>F</td>\n",
       "      <td>16</td>\n",
       "      <td>U</td>\n",
       "      <td>GT3</td>\n",
       "      <td>A</td>\n",
       "      <td>3</td>\n",
       "      <td>1</td>\n",
       "      <td>services</td>\n",
       "      <td>other</td>\n",
       "      <td>...</td>\n",
       "      <td>yes</td>\n",
       "      <td>yes</td>\n",
       "      <td>no</td>\n",
       "      <td>2</td>\n",
       "      <td>3</td>\n",
       "      <td>3</td>\n",
       "      <td>2</td>\n",
       "      <td>2</td>\n",
       "      <td>4</td>\n",
       "      <td>2</td>\n",
       "    </tr>\n",
       "    <tr>\n",
       "      <th>2</th>\n",
       "      <td>MS</td>\n",
       "      <td>F</td>\n",
       "      <td>18</td>\n",
       "      <td>U</td>\n",
       "      <td>GT3</td>\n",
       "      <td>T</td>\n",
       "      <td>4</td>\n",
       "      <td>4</td>\n",
       "      <td>teacher</td>\n",
       "      <td>teacher</td>\n",
       "      <td>...</td>\n",
       "      <td>yes</td>\n",
       "      <td>yes</td>\n",
       "      <td>no</td>\n",
       "      <td>4</td>\n",
       "      <td>3</td>\n",
       "      <td>5</td>\n",
       "      <td>1</td>\n",
       "      <td>2</td>\n",
       "      <td>1</td>\n",
       "      <td>0</td>\n",
       "    </tr>\n",
       "    <tr>\n",
       "      <th>3</th>\n",
       "      <td>MS</td>\n",
       "      <td>M</td>\n",
       "      <td>16</td>\n",
       "      <td>R</td>\n",
       "      <td>LE3</td>\n",
       "      <td>A</td>\n",
       "      <td>4</td>\n",
       "      <td>4</td>\n",
       "      <td>at_home</td>\n",
       "      <td>other</td>\n",
       "      <td>...</td>\n",
       "      <td>yes</td>\n",
       "      <td>no</td>\n",
       "      <td>no</td>\n",
       "      <td>5</td>\n",
       "      <td>3</td>\n",
       "      <td>2</td>\n",
       "      <td>1</td>\n",
       "      <td>3</td>\n",
       "      <td>2</td>\n",
       "      <td>5</td>\n",
       "    </tr>\n",
       "    <tr>\n",
       "      <th>4</th>\n",
       "      <td>GP</td>\n",
       "      <td>F</td>\n",
       "      <td>15</td>\n",
       "      <td>R</td>\n",
       "      <td>GT3</td>\n",
       "      <td>T</td>\n",
       "      <td>1</td>\n",
       "      <td>1</td>\n",
       "      <td>other</td>\n",
       "      <td>other</td>\n",
       "      <td>...</td>\n",
       "      <td>yes</td>\n",
       "      <td>yes</td>\n",
       "      <td>yes</td>\n",
       "      <td>3</td>\n",
       "      <td>3</td>\n",
       "      <td>4</td>\n",
       "      <td>2</td>\n",
       "      <td>4</td>\n",
       "      <td>5</td>\n",
       "      <td>2</td>\n",
       "    </tr>\n",
       "  </tbody>\n",
       "</table>\n",
       "<p>5 rows × 30 columns</p>\n",
       "</div>"
      ],
      "text/plain": [
       "  school sex  age address famsize Pstatus  Medu  Fedu      Mjob     Fjob  ...  \\\n",
       "0     MS   M   18       U     GT3       T     4     4   teacher  teacher  ...   \n",
       "1     GP   F   16       U     GT3       A     3     1  services    other  ...   \n",
       "2     MS   F   18       U     GT3       T     4     4   teacher  teacher  ...   \n",
       "3     MS   M   16       R     LE3       A     4     4   at_home    other  ...   \n",
       "4     GP   F   15       R     GT3       T     1     1     other    other  ...   \n",
       "\n",
       "  higher internet  romantic  famrel  freetime goout Dalc Walc health absences  \n",
       "0    yes      yes        no       3         2     4    1    4      2        4  \n",
       "1    yes      yes        no       2         3     3    2    2      4        2  \n",
       "2    yes      yes        no       4         3     5    1    2      1        0  \n",
       "3    yes       no        no       5         3     2    1    3      2        5  \n",
       "4    yes      yes       yes       3         3     4    2    4      5        2  \n",
       "\n",
       "[5 rows x 30 columns]"
      ]
     },
     "execution_count": 4,
     "metadata": {},
     "output_type": "execute_result"
    }
   ],
   "source": [
    "X_test.head()"
   ]
  },
  {
   "cell_type": "markdown",
   "metadata": {
    "_cell_guid": "daf6f291-b7aa-d184-39f8-6278cc04f0ee",
    "id": "fxkflheLTtVv"
   },
   "source": [
    "# Визуальный анализ данных (Exploratory Data Analysis) [25 %]\n",
    "\n",
    "Перед тем, как приступать к построению алгоритмов, необходимо понять данные, с которыми требуется работать. Для этого в подходах к построению алгоритмов машинного обучения выделят специальный этап - Разведочный анализ данных или Exploratory Data Analysis (EDA). EDA в себя включает все те, что касается описания данных: визуализацию, интерпретацию и анализ. \n",
    "\n",
    "Прежде всего сделаем визуализацию данных для того, чтобы оценить диапазоны значений и виды их распределений.\n",
    "\n",
    "Постройте для приведенных ниже характеристик следующие виды графиков:\n",
    "- Гистограммы;\n",
    "- Круговые диаграмм;\n",
    "- Графики;\n",
    "- Таблицы;\n",
    "- 3D диаграммы.\n",
    "\n",
    "Выберите наиболее подходящий тип графика для каждой характеристки. \n",
    "\n",
    "__Основной критерий оценивания__ - читаемость и интерпретируемость данных."
   ]
  },
  {
   "cell_type": "markdown",
   "metadata": {
    "id": "FA0btFcmmpAG"
   },
   "source": [
    "## Характеристика: \"Sex\""
   ]
  },
  {
   "cell_type": "code",
   "execution_count": 5,
   "metadata": {
    "_cell_guid": "74f8d40e-415f-9e29-03ca-aa1e75714c11",
    "id": "QElGbkh1TtVw"
   },
   "outputs": [
    {
     "data": {
      "image/png": "[encoded data removed]",
      "text/plain": [
       "<Figure size 432x288 with 1 Axes>"
      ]
     },
     "metadata": {},
     "output_type": "display_data"
    }
   ],
   "source": [
    "sns.histplot(data=X_train, x='sex')\n",
    "plt.show()"
   ]
  },
  {
   "cell_type": "markdown",
   "metadata": {},
   "source": [
    "Помимо логичных категорий **M-male** и **F-female** имеются ошибки в данных в виде D,C,B,A"
   ]
  },
  {
   "cell_type": "markdown",
   "metadata": {
    "_cell_guid": "fe453992-94f6-ae3b-b1fd-63027e71729f",
    "id": "eOkuFjVRTtVy"
   },
   "source": [
    "## Характеристика: \"Age\""
   ]
  },
  {
   "cell_type": "code",
   "execution_count": 6,
   "metadata": {
    "_cell_guid": "1051bfb6-f29e-0c40-1666-c97827578ad3",
    "id": "i9a_yujdTtVy",
    "scrolled": true
   },
   "outputs": [
    {
     "data": {
      "image/png": "[encoded data removed]",
      "text/plain": [
       "<Figure size 864x360 with 2 Axes>"
      ]
     },
     "metadata": {},
     "output_type": "display_data"
    }
   ],
   "source": [
    "f, ax = plt.subplots(ncols=2, figsize=(12, 5))\n",
    "\n",
    "ax[0].set_title('raw')\n",
    "sns.histplot(data=X_train, x='age', ax=ax[0])\n",
    "\n",
    "ax[1].set_title('with filter')\n",
    "sns.histplot(data=X_train.query('15<=age<=22'), x='age', ax=ax[1])\n",
    "\n",
    "plt.show()"
   ]
  },
  {
   "cell_type": "markdown",
   "metadata": {},
   "source": [
    "В описании датасета на Kaggle указано, что 15≤age≤22, но никак не 150 лет или 0 "
   ]
  },
  {
   "cell_type": "markdown",
   "metadata": {
    "_cell_guid": "7febeef3-e6b0-a18a-5705-7ee3876c1965",
    "id": "vgfL_e8lTtV0"
   },
   "source": [
    "## Характеристика: \"Weekly study time\""
   ]
  },
  {
   "cell_type": "code",
   "execution_count": 7,
   "metadata": {},
   "outputs": [
    {
     "data": {
      "image/png": "[encoded data removed]",
      "text/plain": [
       "<Figure size 360x360 with 1 Axes>"
      ]
     },
     "metadata": {},
     "output_type": "display_data"
    }
   ],
   "source": [
    "study_data = X_train.groupby('studytime', as_index=False).count()[['studytime', 'school']]\n",
    "study_data = study_data.replace({'studytime': {1:'<2 hours', \n",
    "                                               2:'2 to 5 hours',\n",
    "                                               3:'5 to 10 hours',\n",
    "                                               4:'>10 hours'}})\n",
    "\n",
    "f, ax = plt.subplots(figsize=(5, 5))\n",
    "plt.pie(x=study_data['school'], autopct='%1.0f%%', labels=study_data['studytime'], textprops={'fontsize': 14})\n",
    "plt.xlabel('Weekly study time', fontsize=15)\n",
    "\n",
    "plt.show()"
   ]
  },
  {
   "cell_type": "markdown",
   "metadata": {},
   "source": [
    "Как видно из графика: моду распределия представляет 2-5 часов обучения"
   ]
  },
  {
   "cell_type": "markdown",
   "metadata": {
    "_cell_guid": "a0732dfe-165e-3c44-319c-bb7bf890fe9b",
    "id": "QmcAzPipTtV3"
   },
   "source": [
    "## Характеристика: \"Romantic Relationship\""
   ]
  },
  {
   "cell_type": "code",
   "execution_count": 8,
   "metadata": {
    "_cell_guid": "048c1de0-e55c-6e2f-09db-1263e9fbac76",
    "id": "yICND3ynTtV3"
   },
   "outputs": [
    {
     "data": {
      "image/png": "[encoded data removed]",
      "text/plain": [
       "<Figure size 360x360 with 1 Axes>"
      ]
     },
     "metadata": {},
     "output_type": "display_data"
    }
   ],
   "source": [
    "romantic_data = X_train.groupby('romantic', as_index=False).count()[['romantic', 'school']]\n",
    "\n",
    "f, ax = plt.subplots(figsize=(5, 5))\n",
    "plt.pie(x=romantic_data['school'], autopct='%1.0f%%', labels=romantic_data['romantic'], textprops={'fontsize': 14})\n",
    "plt.xlabel('Romantic Relationship', fontsize=15)\n",
    "\n",
    "plt.show()"
   ]
  },
  {
   "cell_type": "markdown",
   "metadata": {
    "_cell_guid": "21ae96ef-7925-4a81-1f1d-54d4ed018ec3",
    "id": "cJTillXMTtV5"
   },
   "source": [
    "## Характеристика: \"Alcohol Consumption\""
   ]
  },
  {
   "cell_type": "markdown",
   "metadata": {},
   "source": [
    "Объединим workday alcohol consumption и weekend alcohol consumption в один признак"
   ]
  },
  {
   "cell_type": "code",
   "execution_count": 9,
   "metadata": {},
   "outputs": [],
   "source": [
    "X_train['Alc'] = X_train['Dalc'] + X_train['Walc']\n",
    "X_test['Alc'] = X_test['Dalc'] + X_test['Walc']"
   ]
  },
  {
   "cell_type": "code",
   "execution_count": 10,
   "metadata": {
    "id": "e4KynL-GnIrc"
   },
   "outputs": [
    {
     "data": {
      "text/plain": [
       "Text(0.5, 0, 'Weekly alcohol consumption')"
      ]
     },
     "execution_count": 10,
     "metadata": {},
     "output_type": "execute_result"
    },
    {
     "data": {
      "image/png": "[encoded data removed]",
      "text/plain": [
       "<Figure size 432x288 with 1 Axes>"
      ]
     },
     "metadata": {},
     "output_type": "display_data"
    }
   ],
   "source": [
    "f, ax = plt.subplots(figsize=(6, 4))\n",
    "\n",
    "l = []\n",
    "for i in np.arange(0, 11):\n",
    "    l.append(len(X_train[X_train.Alc == i]))\n",
    "ax = sns.barplot(x = np.arange(0, 11), y = l)\n",
    "\n",
    "plt.ylabel('Number of Students')\n",
    "plt.xlabel('Weekly alcohol consumption')"
   ]
  },
  {
   "cell_type": "markdown",
   "metadata": {},
   "source": [
    "Большинство учеников редко выпивают"
   ]
  },
  {
   "cell_type": "markdown",
   "metadata": {
    "_cell_guid": "21ae96ef-7925-4a81-1f1d-54d4ed018ec3",
    "id": "JL7MDeVBnDBw"
   },
   "source": [
    "## Целевая зависимость: \"G3\" (Final Grade)"
   ]
  },
  {
   "cell_type": "code",
   "execution_count": 11,
   "metadata": {
    "scrolled": true
   },
   "outputs": [
    {
     "data": {
      "image/png": "[encoded data removed]",
      "text/plain": [
       "<Figure size 432x288 with 1 Axes>"
      ]
     },
     "metadata": {},
     "output_type": "display_data"
    }
   ],
   "source": [
    "sns.histplot(data=X_train, x='G3')\n",
    "plt.show()"
   ]
  },
  {
   "cell_type": "markdown",
   "metadata": {},
   "source": [
    "## Прочие характеристики\n",
    "\n",
    "Прочитайте описание данных на [сайте](https://www.kaggle.com/uciml/student-alcohol-consumption) и подумайте, какие еще характеристики было бы полезно проанализировать. Постройте соответсвующие графики для выбранных характеристик.\n",
    "\n",
    "Постройте графики еще для минимум 2 характеристик: числовая и категориальная. "
   ]
  },
  {
   "cell_type": "markdown",
   "metadata": {},
   "source": [
    "## Хакартеристика: \"number of school absences\""
   ]
  },
  {
   "cell_type": "code",
   "execution_count": 12,
   "metadata": {
    "id": "zYBWdQKjnDB1"
   },
   "outputs": [
    {
     "data": {
      "image/png": "[encoded data removed]",
      "text/plain": [
       "<Figure size 432x288 with 1 Axes>"
      ]
     },
     "metadata": {},
     "output_type": "display_data"
    }
   ],
   "source": [
    "sns.histplot(data=X_train, x='absences')\n",
    "plt.show()"
   ]
  },
  {
   "cell_type": "markdown",
   "metadata": {},
   "source": [
    "## Хакартеристика: \"extra-curricular activities\""
   ]
  },
  {
   "cell_type": "code",
   "execution_count": 13,
   "metadata": {},
   "outputs": [
    {
     "data": {
      "image/png": "[encoded data removed]",
      "text/plain": [
       "<Figure size 360x360 with 1 Axes>"
      ]
     },
     "metadata": {},
     "output_type": "display_data"
    }
   ],
   "source": [
    "romantic_data = X_train.groupby('activities', as_index=False).count()[['activities', 'school']]\n",
    "\n",
    "f, ax = plt.subplots(figsize=(5, 5))\n",
    "plt.pie(x=romantic_data['school'], autopct='%1.0f%%', labels=romantic_data['activities'], textprops={'fontsize': 14})\n",
    "plt.xlabel('extra-curricular activities', fontsize=15)\n",
    "plt.show()"
   ]
  },
  {
   "cell_type": "markdown",
   "metadata": {
    "_cell_guid": "21ae96ef-7925-4a81-1f1d-54d4ed018ec3",
    "id": "dDiTs21MnRYu"
   },
   "source": [
    "## Корреляция признаков\n",
    "\n",
    "Для того, чтобы быстро получить оценку о взаимосвязи признаков целесообразно построить матрицу их корреляции. Постройте матрицу корреляции."
   ]
  },
  {
   "cell_type": "code",
   "execution_count": 14,
   "metadata": {
    "id": "KagTTs4mnRYv"
   },
   "outputs": [
    {
     "data": {
      "image/png": "[encoded data removed]",
      "text/plain": [
       "<Figure size 576x576 with 2 Axes>"
      ]
     },
     "metadata": {},
     "output_type": "display_data"
    }
   ],
   "source": [
    "f, ax = plt.subplots(figsize=(8, 8))\n",
    "sns.heatmap(X_train.corr(), \n",
    "            square=True, \n",
    "            annot = True, \n",
    "            fmt = \".2f\")\n",
    "plt.show()"
   ]
  },
  {
   "cell_type": "markdown",
   "metadata": {
    "_cell_guid": "21ae96ef-7925-4a81-1f1d-54d4ed018ec3",
    "id": "HU8fL_6GtGWV"
   },
   "source": [
    "## Диапазон значений характеристик\n",
    "\n",
    "Посчитайте число уникальных значений для каждого признака и сравните их между собой."
   ]
  },
  {
   "cell_type": "code",
   "execution_count": 15,
   "metadata": {
    "id": "MnBcttm5tGWW"
   },
   "outputs": [
    {
     "data": {
      "text/plain": [
       "absences      22\n",
       "G3            17\n",
       "age           16\n",
       "Alc            9\n",
       "sex            6\n",
       "Fedu           5\n",
       "Medu           5\n",
       "Mjob           5\n",
       "Fjob           5\n",
       "famrel         5\n",
       "freetime       5\n",
       "goout          5\n",
       "Dalc           5\n",
       "Walc           5\n",
       "health         5\n",
       "failures       4\n",
       "studytime      4\n",
       "traveltime     4\n",
       "reason         4\n",
       "guardian       3\n",
       "famsize        2\n",
       "Pstatus        2\n",
       "address        2\n",
       "schoolsup      2\n",
       "famsup         2\n",
       "paid           2\n",
       "activities     2\n",
       "nursery        2\n",
       "higher         2\n",
       "internet       2\n",
       "romantic       2\n",
       "school         2\n",
       "dtype: int64"
      ]
     },
     "execution_count": 15,
     "metadata": {},
     "output_type": "execute_result"
    }
   ],
   "source": [
    "uniques = X_train.nunique().sort_values(ascending=False)\n",
    "uniques"
   ]
  },
  {
   "cell_type": "markdown",
   "metadata": {},
   "source": [
    "## Сравнение:\n",
    "\n",
    "* Значительную часть признаков бинарные и принимают только 2 значения, к примеру internet - yes/no, address - U/R;\n",
    "* Также есть категориальные признаки, которые являются диапазонами числовых переменных, к примеру traveltime, studytime;\n",
    "* Целевая переменная G3 представлена широким диапазоном значений, также как и с absences;\n",
    "* Переменная age имеет 16 уникальных значений, хотя меняетя с шагом 1 в пределах от 15 до 22 включительно (т.е. должна иметь 8 уникальных значений). Тоже самое с переменной age, у которой должно быть 2 варианта.\n"
   ]
  },
  {
   "cell_type": "markdown",
   "metadata": {
    "_cell_guid": "0e9fb698-c819-074d-26ee-7a6afe00ad62",
    "id": "ZnrLrANOTtWC"
   },
   "source": [
    "# Предобработка данных [25%]\n",
    "\n",
    "Теперь перейдем к подготовке данных для моделей машинного обучения. Не все из описанного ниже нужно делать. Подумайте."
   ]
  },
  {
   "cell_type": "markdown",
   "metadata": {
    "_cell_guid": "21ae96ef-7925-4a81-1f1d-54d4ed018ec3",
    "id": "lY0qoZnQ90NO"
   },
   "source": [
    "## Найдите и исправьте ошибки в данных"
   ]
  },
  {
   "cell_type": "code",
   "execution_count": 16,
   "metadata": {
    "id": "Xt4J1g5l90NP"
   },
   "outputs": [
    {
     "name": "stdout",
     "output_type": "stream",
     "text": [
      "Num unique sex values after: 2\n",
      "Num unique age values after: 8\n"
     ]
    }
   ],
   "source": [
    "# Уберем все нередопустимые значения в переменной sex, при этом оставив наблюдения\n",
    "X_train.loc[~X_train['sex'].isin(['M', 'F']), 'sex'] = np.nan\n",
    "print(f\"Num unique sex values after: {X_train['sex'].nunique()}\")\n",
    "\n",
    "# согласно данным на Kaggle возраст респондентов ограничен 15-22 годами\n",
    "X_train.loc[((22<X_train['age']) | (X_train['age']<15)), 'age'] = np.nan\n",
    "print(f\"Num unique age values after: {X_train['age'].nunique()}\")\n"
   ]
  },
  {
   "cell_type": "markdown",
   "metadata": {
    "_cell_guid": "21ae96ef-7925-4a81-1f1d-54d4ed018ec3",
    "id": "JCVXK7Wsnuf0"
   },
   "source": [
    "## Удалите скоррелированные данные"
   ]
  },
  {
   "cell_type": "code",
   "execution_count": 17,
   "metadata": {
    "id": "KJAfBn9znuf1"
   },
   "outputs": [],
   "source": [
    "# Walc и Dalc значительно коррелируют между собой. Оставим только Alc, удалив их.\n",
    "# Исходя из тех же соображений уберем Fedu\n",
    "\n",
    "\n",
    "X_train['Pedu'] = X_train['Fedu'] + X_train['Medu']\n",
    "X_test['Pedu'] = X_test['Fedu'] + X_test['Medu']\n",
    "\n",
    "X_train.drop(['Walc', 'Dalc', 'Fedu', 'Medu'], 1, inplace=True)\n",
    "X_test.drop(['Walc', 'Dalc', 'Fedu', 'Medu'], 1, inplace=True)"
   ]
  },
  {
   "cell_type": "markdown",
   "metadata": {
    "id": "qF81qsInnuf4"
   },
   "source": [
    "## Заполните пропуски в данных\n",
    "\n",
    "Заполнить пропуски в данных можно следующими способами:\n",
    "- Заполнить нулями\n",
    "- Выбросить данные с нулями (не рекомендуется)\n",
    "- Заполнить средним для данного параметра\n",
    "- Заполнить наиболее соответствующим данному прецеденту"
   ]
  },
  {
   "cell_type": "code",
   "execution_count": 18,
   "metadata": {},
   "outputs": [],
   "source": [
    "# Разделение на численные и категориальные переменные\n",
    "y_train = X_train['G3']\n",
    "\n",
    "cat_cols = X_train.select_dtypes(include=['object']).columns\n",
    "num_cols = X_train.select_dtypes(include=['int64', 'float64']).drop('G3',1).columns\n"
   ]
  },
  {
   "cell_type": "markdown",
   "metadata": {},
   "source": [
    "#### Заполним пропуски средним для числовых и модой для категориальных переменных"
   ]
  },
  {
   "cell_type": "code",
   "execution_count": 19,
   "metadata": {},
   "outputs": [],
   "source": [
    "num_fill_value = X_train[num_cols].mean()\n",
    "X_train[num_cols] = X_train[num_cols].fillna(num_fill_value)\n",
    "X_test[num_cols] = X_test[num_cols].fillna(num_fill_value)\n",
    "\n",
    "cat_fill_value = X_train[cat_cols].mode().iloc[0]\n",
    "X_train[cat_cols] = X_train[cat_cols].fillna(cat_fill_value)\n",
    "X_test[cat_cols] = X_test[cat_cols].fillna(cat_fill_value)"
   ]
  },
  {
   "cell_type": "markdown",
   "metadata": {
    "_cell_guid": "21ae96ef-7925-4a81-1f1d-54d4ed018ec3",
    "id": "_p3_0Is6nuf6"
   },
   "source": [
    "## Сделайте признаки категориальными"
   ]
  },
  {
   "cell_type": "code",
   "execution_count": 20,
   "metadata": {
    "tags": []
   },
   "outputs": [],
   "source": [
    "# Кодируем категориальные \n",
    "from sklearn.preprocessing import OrdinalEncoder\n",
    "\n",
    "enc = OrdinalEncoder(handle_unknown='use_encoded_value', unknown_value=10)\n",
    "enc.fit(X_train[cat_cols]) \n",
    "\n",
    "X_train[cat_cols] = enc.transform(X_train[cat_cols])\n",
    "X_test[cat_cols] = enc.transform(X_test[cat_cols])"
   ]
  },
  {
   "cell_type": "markdown",
   "metadata": {
    "_cell_guid": "21ae96ef-7925-4a81-1f1d-54d4ed018ec3",
    "id": "TQGQtLdynuf8"
   },
   "source": [
    "## Придумайте сложные признаки\n",
    "\n",
    "Сложные признаки - это комбинации существующих (линейных или нелинейных).\n",
    "Это нужно для того, чтобы самостоятельно добавить нелинейность в алгоритм.\n",
    "\n",
    "Приведите не менее двух признаков."
   ]
  },
  {
   "cell_type": "markdown",
   "metadata": {},
   "source": [
    "#### 1 признак: беспечность - carelessness\n",
    "\n",
    "Чем больше подросток ходит гулять с друзьями, пропускает занятия и ходит гулять с друзьями, тем он более беспечный/беззаботный"
   ]
  },
  {
   "cell_type": "code",
   "execution_count": 21,
   "metadata": {},
   "outputs": [
    {
     "name": "stdout",
     "output_type": "stream",
     "text": [
      "Correlation with G3: (-0.13675233835034314, 0.003505772951892342)\n"
     ]
    }
   ],
   "source": [
    "X_train['carelessness'] = X_train['Alc']*X_train['absences']*X_train['goout']\n",
    "X_test['carelessness'] = X_test['Alc']*X_test['absences']*X_test['goout']\n",
    "\n",
    "\n",
    "c = scipy.stats.pearsonr(X_train['carelessness'], y_train)\n",
    "print(f\"Correlation with G3: {c}\")"
   ]
  },
  {
   "cell_type": "markdown",
   "metadata": {},
   "source": [
    "#### 2 признак: cleverness \n",
    "Чем больше ученик учится, и чем меньше ходит гулять "
   ]
  },
  {
   "cell_type": "code",
   "execution_count": 22,
   "metadata": {},
   "outputs": [
    {
     "name": "stdout",
     "output_type": "stream",
     "text": [
      "Correlation with G3: (0.15201031276497573, 0.0011585369670895724)\n"
     ]
    }
   ],
   "source": [
    "X_train['cleverness'] = X_train['studytime']/(X_train['goout'])\n",
    "X_test['cleverness'] = X_test['studytime']/(X_test['goout'])\n",
    "\n",
    "c = scipy.stats.pearsonr(X_train['cleverness'], y_train)\n",
    "print(f\"Correlation with G3: {c}\")"
   ]
  },
  {
   "cell_type": "markdown",
   "metadata": {},
   "source": [
    "#### 3 признак: семейное благополучие - parents_wellbeing"
   ]
  },
  {
   "cell_type": "code",
   "execution_count": 23,
   "metadata": {},
   "outputs": [
    {
     "name": "stdout",
     "output_type": "stream",
     "text": [
      "Correlation with G3: (0.2171022168474637, 3.0280809035560993e-06)\n"
     ]
    }
   ],
   "source": [
    "X_train['parents_wellbeing'] = X_train['famrel']*(1+X_train['Pedu'])\n",
    "X_test['parents_wellbeing'] = X_test['famrel']*(1+X_test['Pedu'])\n",
    "\n",
    "c = scipy.stats.pearsonr(X_train['parents_wellbeing'], y_train)\n",
    "print(f\"Correlation with G3: {c}\")"
   ]
  },
  {
   "cell_type": "markdown",
   "metadata": {},
   "source": [
    "#### Визуализируем зависимость целевой переменной от новых признаков"
   ]
  },
  {
   "cell_type": "code",
   "execution_count": 24,
   "metadata": {
    "scrolled": true
   },
   "outputs": [
    {
     "data": {
      "image/png": "[encoded data removed]",
      "text/plain": [
       "<Figure size 864x288 with 3 Axes>"
      ]
     },
     "metadata": {},
     "output_type": "display_data"
    }
   ],
   "source": [
    "f, ax = plt.subplots(ncols=3, figsize=(12, 4))\n",
    "\n",
    "k=0\n",
    "for i in ['carelessness', 'cleverness', 'parents_wellbeing']: \n",
    "    a = X_train.groupby(i, as_index=False).mean()\n",
    "    sns.scatterplot(x=a[i], y=y_train, ax=ax[k])\n",
    "    #sns.jointplot(x=a[i], y=y_train, ax=ax[0, k])\n",
    "    ax[k].set_xlabel(i, fontsize=15)\n",
    "    ax[k].set_ylabel('G3', fontsize=15)\n",
    "    k+=1\n"
   ]
  },
  {
   "cell_type": "code",
   "execution_count": 25,
   "metadata": {},
   "outputs": [],
   "source": [
    "# Scale числовых значений с средним 0 и стандартным отклонением 1\n",
    "from sklearn.preprocessing import StandardScaler\n",
    "\n",
    "# обновим список столбцов\n",
    "num_cols = X_train.select_dtypes(include=['int64', 'float64']).drop('G3',1).columns\n",
    "\n",
    "scaler = StandardScaler()\n",
    "scaler.fit(X_train[num_cols])\n",
    "\n",
    "X_train[num_cols] = scaler.transform(X_train[num_cols])\n",
    "X_test[num_cols] = scaler.transform(X_test[num_cols])"
   ]
  },
  {
   "cell_type": "markdown",
   "metadata": {
    "_cell_guid": "21ae96ef-7925-4a81-1f1d-54d4ed018ec3",
    "id": "0SggPaJtpN21"
   },
   "source": [
    "## Балансировка классов\n",
    "\n",
    "В качестве методов для балансировки классов можно рассмотреть следующее: \n",
    "- Выкинуть те, которых много.\n",
    "- Дублировать примеры для случаев, которых мало (наиболее адекватный).\n",
    "- Увеличить lr (вес) тех случаев, которых мало."
   ]
  },
  {
   "cell_type": "markdown",
   "metadata": {
    "id": "GWGQxi0Dnuf8"
   },
   "source": [
    "#### Будем решать задачу регрессии, поэтому баланс классов не требуется"
   ]
  },
  {
   "cell_type": "markdown",
   "metadata": {
    "_cell_guid": "9d8e5350-8caa-ab7d-834c-bbaf3e30c2b1",
    "id": "B1ejqsVNTtWC"
   },
   "source": [
    "# Стратегия валидации [10%]\n",
    "\n",
    "Итак, у вас есть данные для обучения и данные, на которых необходимо сделать предсказание. Для оценки точности необходимо проводить валидацию (так как мало данных, можно проводить кросс валидацию).\n",
    "Валидацию проще всего реализовать методами sklearn, например:\n",
    "- KFold\n",
    "- ShuffleSplit\n",
    "- StratifiedKFold\n",
    "- StratifiedShuffleSplit\n",
    "- GroupKFold\n",
    "- GroupShuffleSplit"
   ]
  },
  {
   "cell_type": "markdown",
   "metadata": {
    "id": "VzubJKIYtP8u"
   },
   "source": [
    "## Разделите данные и объясните выбор стратегии"
   ]
  },
  {
   "cell_type": "markdown",
   "metadata": {},
   "source": [
    "#### Выберем стратегию *StratifiedShuffleSplit* чтобы получить множества случайных перестановок, при этом сохранив баланс классов в train и test фолдах т.к. для Adversarial Validation стоит задача классификации регрессии"
   ]
  },
  {
   "cell_type": "code",
   "execution_count": 26,
   "metadata": {},
   "outputs": [],
   "source": [
    "from sklearn.model_selection import StratifiedShuffleSplit"
   ]
  },
  {
   "cell_type": "markdown",
   "metadata": {
    "id": "Fq3f92ANsvZ3"
   },
   "source": [
    "## Состязательная валидация (Adversarial Validation) [+30% к ДЗ]"
   ]
  },
  {
   "cell_type": "markdown",
   "metadata": {
    "id": "IPvFGp92s4Fv"
   },
   "source": [
    "Данная стратегия часто применяется в соревнованиях по машинному обучению. Так как проверить свой алгоритм возможно только на заданном тренировочном наборе данных, а результат требуется к набору, для которого нет ответов, то выбирают следующий подход:\n",
    "- оценить степень схожести тренировочных и тестовых данных;\n",
    "- составить валидацию из тех тренировочных данных, которые больше похожи на тестовые.\n",
    "\n",
    "Алгоритм реализации AV:\n",
    "1. Удаляем ответы из тренировочных данных.\n",
    "2. Добавляем специальные метки (```is_test```) для классов: тренировочные данные и тестовые.\n",
    "То есть у тестовых данных будет значение ```is_test = 1```, а у тренировочных ```is_test = 0```.\n",
    "4. Учим алгоритм классификации предсказывать заданную метку ```is_test```.\n",
    "5. Делим тренировочные данные на N частей и проводим кросс-валидацию.\n",
    "\n",
    "Обучаем N алгоритмов классификации: каждый обучается на всех тестовых данных и на N-1 наборах тренировочных. Предсказываем на 1 тренировочном наборе.\n",
    "\n",
    "6. Для каждого элемента в выборке предсказываем вероятность принадлежности класса и сортируем тренировочные данные по вероятности принадлежности тестовой выборке.\n",
    "7. Выделяем заданное число данных в валидацию.\n",
    "8. Обучаемся для итогового предсказания на всех данных."
   ]
  },
  {
   "cell_type": "code",
   "execution_count": 27,
   "metadata": {},
   "outputs": [],
   "source": [
    "from sklearn.metrics import mean_squared_error"
   ]
  },
  {
   "cell_type": "code",
   "execution_count": 28,
   "metadata": {
    "jupyter": {
     "outputs_hidden": true
    },
    "tags": []
   },
   "outputs": [
    {
     "name": "stdout",
     "output_type": "stream",
     "text": [
      "Примеров класса is_test=1: 324\n",
      "Примеров класса is_test=0: 324\n"
     ]
    }
   ],
   "source": [
    "# копируем чтобы составить обучающий датасет для Adversarial Validation модели\n",
    "X_train_copy = X_train.copy()\n",
    "X_test_copy = X_test.copy()\n",
    "\n",
    "X_train_copy.drop('G3', 1, inplace=True)\n",
    "# проставляем таргет\n",
    "X_train_copy['is_test'] = 0\n",
    "X_test_copy['is_test'] = 1\n",
    "\n",
    "# размер выборки каждого класса\n",
    "minor_class = len(X_test_copy)\n",
    "major_class = len(X_train_copy)\n",
    "\n",
    "# увеличим миноритарный класс до среднего значения и сократим мажоритарный таким же образом\n",
    "s = int((major_class+minor_class)/2)\n",
    "X_advers = pd.concat((X_train_copy.sample(s),\n",
    "                      X_test_copy.sample(s, replace=True)), 0)\n",
    "\n",
    "# перемешаем датасет\n",
    "#X_advers = X_advers.sample(frac=1).reset_index(drop=True)\n",
    "\n",
    "print(f\"Примеров класса is_test=1: {len(X_advers[X_advers['is_test']==1])}\")\n",
    "print(f\"Примеров класса is_test=0: {len(X_advers[X_advers['is_test']==0])}\")\n",
    "\n",
    "\n",
    "X = np.array(X_advers.drop('is_test', 1))\n",
    "y = np.array(X_advers['is_test'])"
   ]
  },
  {
   "cell_type": "code",
   "execution_count": 29,
   "metadata": {},
   "outputs": [
    {
     "name": "stdout",
     "output_type": "stream",
     "text": [
      "0.4604938271604938\n"
     ]
    }
   ],
   "source": [
    "from sklearn.linear_model import LogisticRegression\n",
    "from sklearn.linear_model import LassoCV\n",
    "from sklearn.metrics import roc_auc_score\n",
    "\n",
    "# в качестве модели импользуем логистическую регрессию\n",
    "lr = LogisticRegression()\n",
    "mse_score = []\n",
    "\n",
    "# cros val\n",
    "sss = StratifiedShuffleSplit(n_splits=5, test_size=0.5, random_state=0)\n",
    "sss.get_n_splits(X, y)\n",
    "\n",
    "for train_index, test_index in sss.split(X, y):\n",
    "    lr.fit(X[train_index], y[train_index])\n",
    "    y_pred_lr = lr.predict(X[test_index])\n",
    "    mse_score.append(mean_squared_error(y_pred_lr, y[test_index]))\n",
    "\n",
    "print(np.mean(mse_score))"
   ]
  },
  {
   "cell_type": "code",
   "execution_count": 30,
   "metadata": {},
   "outputs": [],
   "source": [
    "try:\n",
    "    X_train = X_train.drop('is_test_proba',1)\n",
    "except:\n",
    "    pass\n",
    "    \n",
    "# is_test_proba - оценка схожести данных X_test на данные для сабмита\n",
    "X_train['is_test_proba'] = 100*lr.predict_proba(np.array(X_train.drop('G3',1)))[:, 1]"
   ]
  },
  {
   "cell_type": "code",
   "execution_count": 31,
   "metadata": {},
   "outputs": [
    {
     "name": "stdout",
     "output_type": "stream",
     "text": [
      "Возьмем в валидацию 20% тренировочной выборки максимально похожей на данные для сабмита\n"
     ]
    }
   ],
   "source": [
    "val_size = int(X_train['is_test_proba'].quantile(0.8))\n",
    "print(f\"Возьмем в валидацию 20% тренировочной выборки максимально похожей на данные для сабмита\")\n",
    "\n",
    "# восстановим тагрет\n",
    "X_train['G3'] = y_train"
   ]
  },
  {
   "cell_type": "code",
   "execution_count": 32,
   "metadata": {},
   "outputs": [],
   "source": [
    "# в качестве тестовых данных возьмём наиболее похожие на данные из сабмита\n",
    "X_test_new = X_train.query(\"is_test_proba >= @val_size\").drop(['is_test_proba', 'G3'], 1)\n",
    "y_test_new = X_train.query(\"is_test_proba >= @val_size\")['G3']\n",
    "\n",
    "X_train_new = X_train.query(\"is_test_proba < @val_size\").drop(['is_test_proba', 'G3'], 1)\n",
    "y_train_new = X_train.query(\"is_test_proba < @val_size\")['G3']"
   ]
  },
  {
   "cell_type": "markdown",
   "metadata": {
    "_cell_guid": "3013b854-7aaa-4ad6-7952-1d188121ea25",
    "id": "FOASQBPeTtWR"
   },
   "source": [
    "# Обучение алгоритма"
   ]
  },
  {
   "cell_type": "markdown",
   "metadata": {
    "id": "0mY4P-3KwCxe"
   },
   "source": [
    "Целевая переменная принимает дискретные значения [0; 20], поэтому вы можете поставить как задачу классификации, так и задачу регрессии.\n",
    "\n",
    "!Не забудьте про оптимизацию параметров алгоритмов, у вас же уже есть данные для валидации."
   ]
  },
  {
   "cell_type": "markdown",
   "metadata": {
    "id": "hSzT-UXuwc0K"
   },
   "source": [
    "## KNN [20%]"
   ]
  },
  {
   "cell_type": "code",
   "execution_count": 40,
   "metadata": {
    "_cell_guid": "74f8d40e-415f-9e29-03ca-aa1e75714c11",
    "id": "ZYbJ_BsSwc0L"
   },
   "outputs": [
    {
     "name": "stdout",
     "output_type": "stream",
     "text": [
      "5.569645732689211\n"
     ]
    }
   ],
   "source": [
    "from sklearn.neighbors import KNeighborsRegressor\n",
    "from sklearn.model_selection import GridSearchCV\n",
    "from warnings import filterwarnings\n",
    "filterwarnings('ignore')\n",
    "\n",
    "params = {\"n_neighbors\": np.arange(1, 10), \"p\": [1, 2]}\n",
    "\n",
    "knn = GridSearchCV(KNeighborsRegressor(), cv=3, param_grid=params)\n",
    "\n",
    "knn.fit(X_train_new, y_train_new)\n",
    "y_pred_knn = knn.predict(X_test_new)\n",
    "\n",
    "mse_score = mean_squared_error(y_pred_knn, y_test_new)\n",
    "print(mse_score)"
   ]
  },
  {
   "cell_type": "markdown",
   "metadata": {
    "_cell_guid": "7febeef3-e6b0-a18a-5705-7ee3876c1965",
    "id": "Udr6RqDEwc0P"
   },
   "source": [
    "## Регрессия [20%]"
   ]
  },
  {
   "cell_type": "code",
   "execution_count": 38,
   "metadata": {
    "_cell_guid": "12f1d266-9efa-4bd9-a3c1-48ea880080be",
    "id": "crF6j8Qwwc0Q"
   },
   "outputs": [
    {
     "name": "stdout",
     "output_type": "stream",
     "text": [
      "5.5401425495058785\n"
     ]
    }
   ],
   "source": [
    "from sklearn.linear_model import LinearRegression\n",
    "from sklearn.linear_model import LassoCV\n",
    "\n",
    "lr = LinearRegression()\n",
    "\n",
    "lr.fit(X_train_new, y_train_new)\n",
    "y_pred_lr = lr.predict(X_test_new)\n",
    "\n",
    "mse_score=mean_squared_error(y_pred_lr, y_test_new)\n",
    "\n",
    "print(mse_score)"
   ]
  },
  {
   "cell_type": "markdown",
   "metadata": {},
   "source": [
    "#### Усредним прогноз двух алгоритмов"
   ]
  },
  {
   "cell_type": "code",
   "execution_count": 35,
   "metadata": {},
   "outputs": [
    {
     "data": {
      "text/plain": [
       "5.217391304347826"
      ]
     },
     "execution_count": 35,
     "metadata": {},
     "output_type": "execute_result"
    }
   ],
   "source": [
    "compose_pred = (y_pred_lr+y_pred_knn)/2\n",
    "compose_pred = compose_pred.astype(int)\n",
    "mean_squared_error(compose_pred, y_test_new)"
   ]
  },
  {
   "cell_type": "markdown",
   "metadata": {},
   "source": [
    "Как видно, MSE при композиции двух моделей ниже"
   ]
  },
  {
   "cell_type": "markdown",
   "metadata": {
    "_cell_guid": "3013b854-7aaa-4ad6-7952-1d188121ea25",
    "id": "Jesi9XuFxDC4"
   },
   "source": [
    "# Сделайте итоговое предсказание"
   ]
  },
  {
   "cell_type": "markdown",
   "metadata": {
    "id": "o1RKHAMMxDC5"
   },
   "source": [
    "Решением является данный ноутбук + .csv файл с предсказанием. Пример формата файла, который должен у вас получится приведен в ```data/sample_submission.csv```.\n",
    "\n",
    "Значения предсказаний должны быть целочисленными. Проверка будет точности будет по MSE."
   ]
  },
  {
   "cell_type": "code",
   "execution_count": 93,
   "metadata": {},
   "outputs": [],
   "source": [
    "y_subm_knn = knn.predict(np.array(X_test))\n",
    "y_subm_knn = y_subm_knn\n",
    "\n",
    "y_subm_lr = lr.predict(np.array(X_test))\n",
    "y_subm_lr = y_subm_lr\n",
    "\n",
    "result_submission = (y_subm_knn+y_subm_lr)/2\n",
    "result_submission = result_submission.astype(int)"
   ]
  },
  {
   "cell_type": "code",
   "execution_count": 94,
   "metadata": {
    "_cell_guid": "74f8d40e-415f-9e29-03ca-aa1e75714c11",
    "id": "4jjz8kfUxDC7"
   },
   "outputs": [],
   "source": [
    "# Для jupyter notebook\n",
    "\n",
    "submission = pd.read_csv('data/sample_submission.csv', index_col='id')\n",
    "submission['G3'] = result_submission # ваше предсказание\n",
    "submission.to_csv('data/submission.csv')#index=False??"
   ]
  },
  {
   "cell_type": "code",
   "execution_count": null,
   "metadata": {},
   "outputs": [],
   "source": []
  }
 ],
 "metadata": {
  "_change_revision": 0,
  "_is_fork": false,
  "colab": {
   "name": "HW 1.ipynb",
   "provenance": [],
   "toc_visible": true
  },
  "kernelspec": {
   "display_name": "Python 3 (ipykernel)",
   "language": "python",
   "name": "python3"
  },
  "language_info": {
   "codemirror_mode": {
    "name": "ipython",
    "version": 3
   },
   "file_extension": ".py",
   "mimetype": "text/x-python",
   "name": "python",
   "nbconvert_exporter": "python",
   "pygments_lexer": "ipython3",
   "version": "3.9.7"
  }
 },
 "nbformat": 4,
 "nbformat_minor": 4
}
